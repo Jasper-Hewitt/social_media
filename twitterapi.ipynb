{
  "nbformat": 4,
  "nbformat_minor": 0,
  "metadata": {
    "colab": {
      "provenance": [],
      "authorship_tag": "ABX9TyN9S3FO8zQvFH83fyZixl8C",
      "include_colab_link": true
    },
    "kernelspec": {
      "name": "python3",
      "display_name": "Python 3"
    },
    "language_info": {
      "name": "python"
    }
  },
  "cells": [
    {
      "cell_type": "markdown",
      "metadata": {
        "id": "view-in-github",
        "colab_type": "text"
      },
      "source": [
        "<a href=\"https://colab.research.google.com/github/Jasper-Hewitt/social_media/blob/main/twitterapi.ipynb\" target=\"_parent\"><img src=\"https://colab.research.google.com/assets/colab-badge.svg\" alt=\"Open In Colab\"/></a>"
      ]
    },
    {
      "cell_type": "markdown",
      "source": [
        "##initial authentication (complete)"
      ],
      "metadata": {
        "id": "uugeow4FyOYq"
      }
    },
    {
      "cell_type": "code",
      "source": [
        "import tweepy\n",
        "\n",
        "# Your keys from the Twitter developer portal\n",
        "consumer_key = 'Owen Key'\n",
        "consumer_secret = 'Owen Key'\n",
        "\n",
        "auth = tweepy.OAuthHandler(consumer_key, consumer_secret)\n",
        "\n",
        "try:\n",
        "    redirect_url = auth.get_authorization_url()\n",
        "except tweepy.TweepError:\n",
        "    print('Error! Failed to get request token.')\n",
        "\n",
        "# Now the user should visit this redirect_url and authorize the app\n",
        "print(\"Please visit this URL to authorize the app: \" + redirect_url)\n",
        "\n",
        "# User will manually enter the oauth_token and oauth_verifier\n",
        "oauth_token = input(\"Please enter the oauth_token: \")\n",
        "oauth_verifier = input(\"Please enter the oauth_verifier: \")\n",
        "\n",
        "try:\n",
        "    auth.request_token = { \"oauth_token\" : oauth_token, \"oauth_token_secret\" : oauth_verifier }\n",
        "    auth.get_access_token(oauth_verifier)\n",
        "except tweepy.TweepError:\n",
        "    print('Error! Failed to get access token.')\n",
        "\n",
        "# Now auth.access_token and auth.access_token_secret can be used to create an API object\n",
        "api = tweepy.API(auth)\n",
        "\n",
        "# Now you can use api object to make requests on behalf of the user\n"
      ],
      "metadata": {
        "id": "vuTN0G4-v68u",
        "outputId": "5d70160c-f6e6-4949-8405-3159e49c87b5",
        "colab": {
          "base_uri": "https://localhost:8080/"
        }
      },
      "execution_count": 16,
      "outputs": [
        {
          "name": "stdout",
          "output_type": "stream",
          "text": [
            "Please visit this URL to authorize the app: https://api.twitter.com/oauth/authorize?oauth_token=hr_lXwAAAAABWhLnAAABiB7AOFA\n",
            "Please enter the oauth_token: hr_lXwAAAAABWhLnAAABiB7AOFA\n",
            "Please enter the oauth_verifier: bvsx6XVsnhlNDolem0OcudnkH4WxuUmn\n"
          ]
        }
      ]
    },
    {
      "cell_type": "code",
      "source": [
        "# import tweepy\n",
        "\n",
        "# # Your keys from the Twitter developer portal\n",
        "# # consumer_key = 'your-consumer-key'\n",
        "# # consumer_secret = 'your-consumer-secret'\n",
        "\n",
        "# oauth_token = ''  # The oauth_token from the URL\n",
        "# oauth_verifier = ''  # The oauth_verifier from the URL\n",
        "\n",
        "# auth = tweepy.OAuthHandler(consumer_key, consumer_secret)\n",
        "# auth.request_token = {'oauth_token': oauth_token, 'oauth_token_secret': oauth_verifier}\n",
        "\n",
        "# try:\n",
        "#     auth.get_access_token(oauth_verifier)\n",
        "# except Exception as e:\n",
        "#     print('Error! Failed to get access token.', e)\n",
        "\n",
        "# # Now auth.access_token and auth.access_token_secret are the final tokens you can use in future sessions\n",
        "# print(\"Access Token:\", auth.access_token)\n",
        "# print(\"Access Token Secret:\", auth.access_token_secret)\n"
      ],
      "metadata": {
        "id": "oDdaQmD-zLh-",
        "outputId": "380d1318-687e-4d87-e409-6eafed17a674",
        "colab": {
          "base_uri": "https://localhost:8080/"
        }
      },
      "execution_count": 20,
      "outputs": [
        {
          "output_type": "stream",
          "name": "stdout",
          "text": [
            "Error! Failed to get access token. Token request failed with code 401, response was 'Request token missing'.\n",
            "Access Token: None\n",
            "Access Token Secret: None\n"
          ]
        }
      ]
    },
    {
      "cell_type": "code",
      "source": [
        "#write things"
      ],
      "metadata": {
        "id": "VbJHe9EmyUfN"
      },
      "execution_count": null,
      "outputs": []
    },
    {
      "cell_type": "code",
      "execution_count": 9,
      "metadata": {
        "id": "Ovilw6x1nqC0"
      },
      "outputs": [],
      "source": [
        "import tweepy\n",
        "\n",
        "# Authenticate to Twitter\n",
        "auth = tweepy.OAuthHandler(\"\", '')\n",
        "auth.set_access_token(\"\", '')\n",
        "\n",
        "# Create API object\n",
        "api = tweepy.API(auth, wait_on_rate_limit=True)#,\n",
        "#    wait_on_rate_limit_notify=True)"
      ]
    },
    {
      "cell_type": "code",
      "source": [
        "tweet = api.update_status(\"Hello, world!\")\n",
        "print(f\"Tweeted: {tweet.text}\")"
      ],
      "metadata": {
        "id": "DsLcLHCJxuuh",
        "outputId": "87d6fac8-c47c-47b9-998e-25bf51021852",
        "colab": {
          "base_uri": "https://localhost:8080/"
        }
      },
      "execution_count": 17,
      "outputs": [
        {
          "output_type": "stream",
          "name": "stdout",
          "text": [
            "Tweeted: Hello, world!\n"
          ]
        }
      ]
    },
    {
      "cell_type": "code",
      "source": [
        "#https://realpython.com/twitter-bot-python-tweepy/#reader-comments"
      ],
      "metadata": {
        "id": "9W7FFPnWqVVx",
        "outputId": "d198537a-7efb-47fd-8a4b-f7082bccc1c3",
        "colab": {
          "base_uri": "https://localhost:8080/",
          "height": 131
        }
      },
      "execution_count": 2,
      "outputs": [
        {
          "output_type": "error",
          "ename": "SyntaxError",
          "evalue": "ignored",
          "traceback": [
            "\u001b[0;36m  File \u001b[0;32m\"<ipython-input-2-6555905a64af>\"\u001b[0;36m, line \u001b[0;32m1\u001b[0m\n\u001b[0;31m    https://realpython.com/twitter-bot-python-tweepy/#reader-comments\u001b[0m\n\u001b[0m          ^\u001b[0m\n\u001b[0;31mSyntaxError\u001b[0m\u001b[0;31m:\u001b[0m invalid syntax\n"
          ]
        }
      ]
    }
  ]
}