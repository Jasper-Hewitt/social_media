{
  "nbformat": 4,
  "nbformat_minor": 0,
  "metadata": {
    "colab": {
      "provenance": [],
      "authorship_tag": "ABX9TyPKcesn+RYvWx4F5H8Edf0f",
      "include_colab_link": true
    },
    "kernelspec": {
      "name": "python3",
      "display_name": "Python 3"
    },
    "language_info": {
      "name": "python"
    }
  },
  "cells": [
    {
      "cell_type": "markdown",
      "metadata": {
        "id": "view-in-github",
        "colab_type": "text"
      },
      "source": [
        "<a href=\"https://colab.research.google.com/github/Jasper-Hewitt/social_media/blob/main/twitterapi.ipynb\" target=\"_parent\"><img src=\"https://colab.research.google.com/assets/colab-badge.svg\" alt=\"Open In Colab\"/></a>"
      ]
    },
    {
      "cell_type": "markdown",
      "source": [
        "##initial authentication (complete)"
      ],
      "metadata": {
        "id": "uugeow4FyOYq"
      }
    },
    {
      "cell_type": "code",
      "source": [
        "#https://realpython.com/twitter-bot-python-tweepy/#reader-comments"
      ],
      "metadata": {
        "id": "xvcfO8Z0DJAP"
      },
      "execution_count": null,
      "outputs": []
    },
    {
      "cell_type": "code",
      "source": [
        "import tweepy\n",
        "\n",
        "# Your keys from the Twitter developer portal\n",
        "consumer_key = ''\n",
        "consumer_secret = ''\n",
        "\n",
        "auth = tweepy.OAuthHandler(consumer_key, consumer_secret)\n",
        "\n",
        "try:\n",
        "    redirect_url = auth.get_authorization_url()\n",
        "except tweepy.TweepError:\n",
        "    print('Error! Failed to get request token.')\n",
        "\n",
        "# Now the user should visit this redirect_url and authorize the app\n",
        "print(\"Please visit this URL to authorize the app: \" + redirect_url)\n",
        "\n",
        "# User will manually enter the oauth_token and oauth_verifier\n",
        "oauth_token = input(\"Please enter the oauth_token: \")\n",
        "oauth_verifier = input(\"Please enter the oauth_verifier: \")\n",
        "\n",
        "try:\n",
        "    auth.request_token = { \"oauth_token\" : oauth_token, \"oauth_token_secret\" : oauth_verifier }\n",
        "    auth.get_access_token(oauth_verifier)\n",
        "except tweepy.TweepError:\n",
        "    print('Error! Failed to get access token.')\n",
        "\n",
        "# Print out the access tokens\n",
        "print(\"Access Token: \" + auth.access_token)\n",
        "print(\"Access Token Secret: \" + auth.access_token_secret)\n",
        "\n",
        "# Now auth.access_token and auth.access_token_secret can be used to create an\n"
      ],
      "metadata": {
        "id": "OPJo7Ubj2lN8",
        "outputId": "08d1aba9-798e-4d9b-fdd4-6f1ad404ee0c",
        "colab": {
          "base_uri": "https://localhost:8080/"
        }
      },
      "execution_count": null,
      "outputs": [
        {
          "output_type": "stream",
          "name": "stdout",
          "text": [
            "Please visit this URL to authorize the app: https://api.twitter.com/oauth/authorize?oauth_token=u7_yCAAAAAABWhLnAAABiB7bUYo\n",
            "Please enter the oauth_token: u7_yCAAAAAABWhLnAAABiB7bUYo\n",
            "Please enter the oauth_verifier: mhABRaiAhgA3OPRnoIJVRYtsmnkwtt8h\n",
            "Access Token: 1656141039797940224-y96eF27lVziqkUn6CYULmh2uaDItoV\n",
            "Access Token Secret: Kk3irUiecI0Z1m4b7i2VpBEibrjmMBbXh00yvu1OItwi1\n"
          ]
        }
      ]
    },
    {
      "cell_type": "markdown",
      "source": [
        "#init twitter and open ai api "
      ],
      "metadata": {
        "id": "vFmAV1V68kMi"
      }
    },
    {
      "cell_type": "code",
      "source": [
        "!pip install fitz\n",
        "!pip install static\n",
        "!pip install frontend\n",
        "!pip install pymupdf --upgrade\n",
        "!pip install openai"
      ],
      "metadata": {
        "id": "7pMlRtTy9h8o"
      },
      "execution_count": null,
      "outputs": []
    },
    {
      "cell_type": "code",
      "source": [
        "import os\n",
        "import openai\n",
        "import json\n",
        "openai.api_key = '' #delete when uploading "
      ],
      "metadata": {
        "id": "d2e3elfE9ltF"
      },
      "execution_count": 35,
      "outputs": []
    },
    {
      "cell_type": "code",
      "execution_count": 30,
      "metadata": {
        "id": "Ovilw6x1nqC0"
      },
      "outputs": [],
      "source": [
        "import tweepy\n",
        "\n",
        "# Authenticate to Twitter\n",
        "auth = tweepy.OAuthHandler(\"\", '') #owen consumer keys\n",
        "auth.set_access_token(\"\", '') #ESGGUardian specific access keys received through authentication\n",
        "\n",
        "# Create API object\n",
        "api = tweepy.API(auth, wait_on_rate_limit=True)#,\n",
        "#    wait_on_rate_limit_notify=True)"
      ]
    },
    {
      "cell_type": "markdown",
      "source": [
        "##get tweet"
      ],
      "metadata": {
        "id": "pnFMKXqz90P1"
      }
    },
    {
      "cell_type": "code",
      "source": [
        "#usernames='insert list of usernames'\n",
        "\n",
        "#create randomizer that picks something everyday"
      ],
      "metadata": {
        "id": "HlAcvLLODMEw"
      },
      "execution_count": null,
      "outputs": []
    },
    {
      "cell_type": "code",
      "source": [
        "# Specify the username of the user\n",
        "username = 'BarackObama'\n",
        "\n",
        "# Use the user_timeline method to get the most recent tweets\n",
        "tweets = api.user_timeline(screen_name=username, count=1, tweet_mode='extended')\n",
        "\n",
        "# Extract the full text from the most recent tweet\n",
        "latest_tweet = tweets[0].full_text\n",
        "\n",
        "print(latest_tweet)"
      ],
      "metadata": {
        "id": "NGV2ADe893DS",
        "outputId": "085d83db-fa6a-425e-b54c-5a45ea40f787",
        "colab": {
          "base_uri": "https://localhost:8080/"
        }
      },
      "execution_count": 41,
      "outputs": [
        {
          "output_type": "stream",
          "name": "stdout",
          "text": [
            "Happy Mother’s Day! I hope you take a moment to appreciate all the moms and mother-figures in your life – and be there for people who may be missing theirs.\n",
            "\n",
            "To @MichelleObama, thanks for being such an amazing mom to our beautiful girls. You set an incredible example for all of… https://t.co/VkAOlVhsrF https://t.co/tD69N0gqml\n"
          ]
        }
      ]
    },
    {
      "cell_type": "code",
      "source": [
        "latest_tweet = '@'+username + ':'+ latest_tweet"
      ],
      "metadata": {
        "id": "BZCnnWpeAKXw"
      },
      "execution_count": 42,
      "outputs": []
    },
    {
      "cell_type": "code",
      "source": [
        "latest_tweet"
      ],
      "metadata": {
        "id": "vD43HrO7BqsS",
        "outputId": "02a8e16b-ccb5-461b-917b-2879fbc20969",
        "colab": {
          "base_uri": "https://localhost:8080/",
          "height": 53
        }
      },
      "execution_count": 43,
      "outputs": [
        {
          "output_type": "execute_result",
          "data": {
            "text/plain": [
              "'@BarackObama:Happy Mother’s Day! I hope you take a moment to appreciate all the moms and mother-figures in your life – and be there for people who may be missing theirs.\\n\\nTo @MichelleObama, thanks for being such an amazing mom to our beautiful girls. You set an incredible example for all of… https://t.co/VkAOlVhsrF https://t.co/tD69N0gqml'"
            ],
            "application/vnd.google.colaboratory.intrinsic+json": {
              "type": "string"
            }
          },
          "metadata": {},
          "execution_count": 43
        }
      ]
    },
    {
      "cell_type": "markdown",
      "source": [
        "#chatGPT and GPT 4 api "
      ],
      "metadata": {
        "id": "e_RMUyZz9tn7"
      }
    },
    {
      "cell_type": "code",
      "source": [
        "#consult chatGPT and store output in variable named output\n",
        "input='generate a short tweet that responds positively to the following tweet, tag the original poster in your response, do not just simply rephrase the post but add a personal opinion.'+ latest_tweet\n",
        "\n",
        "completion = openai.ChatCompletion.create(\n",
        "    model=\"gpt-3.5-turbo\", \n",
        "    messages=[{\"role\": \"user\", \"content\": input}]\n",
        ")\n",
        "json_object = json.loads(str(completion))\n",
        "output = json_object['choices'][0]['message']['content']\n",
        "print(output)"
      ],
      "metadata": {
        "id": "u2eu63Lj8nBn",
        "outputId": "98526d8b-76bc-4d90-d30d-58431f088ff0",
        "colab": {
          "base_uri": "https://localhost:8080/"
        }
      },
      "execution_count": 45,
      "outputs": [
        {
          "output_type": "stream",
          "name": "stdout",
          "text": [
            "@BarackObama Thank you for reminding us to appreciate the moms and mother-figures in our lives! @MichelleObama is an incredible role model for all of us. Happy Mother's Day to all the amazing moms out there! ❤️🌷\n"
          ]
        }
      ]
    },
    {
      "cell_type": "code",
      "source": [
        "#gpt4 api? or not necessary?"
      ],
      "metadata": {
        "id": "1pAHMzO7DC-f"
      },
      "execution_count": null,
      "outputs": []
    },
    {
      "cell_type": "markdown",
      "source": [
        "##tweet"
      ],
      "metadata": {
        "id": "A4lPY2AP9xmo"
      }
    },
    {
      "cell_type": "code",
      "source": [
        "tweet = api.update_status(output)\n",
        "print(f\"Tweeted: {tweet.text}\")"
      ],
      "metadata": {
        "id": "DsLcLHCJxuuh",
        "outputId": "6c31f68d-4a66-4721-bbca-1ab437ca854d",
        "colab": {
          "base_uri": "https://localhost:8080/"
        }
      },
      "execution_count": 46,
      "outputs": [
        {
          "output_type": "stream",
          "name": "stdout",
          "text": [
            "Tweeted: @BarackObama Thank you for reminding us to appreciate the moms and mother-figures in our lives! @MichelleObama is a… https://t.co/xDlRZ0vgNA\n"
          ]
        }
      ]
    }
  ]
}