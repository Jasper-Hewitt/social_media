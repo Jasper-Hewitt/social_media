{
  "nbformat": 4,
  "nbformat_minor": 0,
  "metadata": {
    "colab": {
      "provenance": [],
      "authorship_tag": "ABX9TyPcZ73tVvfzEm/4J5UvMfHr",
      "include_colab_link": true
    },
    "kernelspec": {
      "name": "python3",
      "display_name": "Python 3"
    },
    "language_info": {
      "name": "python"
    }
  },
  "cells": [
    {
      "cell_type": "markdown",
      "metadata": {
        "id": "view-in-github",
        "colab_type": "text"
      },
      "source": [
        "<a href=\"https://colab.research.google.com/github/Jasper-Hewitt/social_media/blob/main/twitterapi.ipynb\" target=\"_parent\"><img src=\"https://colab.research.google.com/assets/colab-badge.svg\" alt=\"Open In Colab\"/></a>"
      ]
    },
    {
      "cell_type": "markdown",
      "source": [
        "##initial authentication (complete)"
      ],
      "metadata": {
        "id": "uugeow4FyOYq"
      }
    },
    {
      "cell_type": "code",
      "source": [
        "import tweepy\n",
        "\n",
        "# Your keys from the Twitter developer portal\n",
        "consumer_key = ''\n",
        "consumer_secret = ''\n",
        "\n",
        "auth = tweepy.OAuthHandler(consumer_key, consumer_secret)\n",
        "\n",
        "try:\n",
        "    redirect_url = auth.get_authorization_url()\n",
        "except tweepy.TweepError:\n",
        "    print('Error! Failed to get request token.')\n",
        "\n",
        "# Now the user should visit this redirect_url and authorize the app\n",
        "print(\"Please visit this URL to authorize the app: \" + redirect_url)\n",
        "\n",
        "# User will manually enter the oauth_token and oauth_verifier\n",
        "oauth_token = input(\"Please enter the oauth_token: \")\n",
        "oauth_verifier = input(\"Please enter the oauth_verifier: \")\n",
        "\n",
        "try:\n",
        "    auth.request_token = { \"oauth_token\" : oauth_token, \"oauth_token_secret\" : oauth_verifier }\n",
        "    auth.get_access_token(oauth_verifier)\n",
        "except tweepy.TweepError:\n",
        "    print('Error! Failed to get access token.')\n",
        "\n",
        "# Print out the access tokens\n",
        "print(\"Access Token: \" + auth.access_token)\n",
        "print(\"Access Token Secret: \" + auth.access_token_secret)\n",
        "\n",
        "# Now auth.access_token and auth.access_token_secret can be used to create an\n"
      ],
      "metadata": {
        "id": "OPJo7Ubj2lN8",
        "outputId": "08d1aba9-798e-4d9b-fdd4-6f1ad404ee0c",
        "colab": {
          "base_uri": "https://localhost:8080/"
        }
      },
      "execution_count": 29,
      "outputs": [
        {
          "output_type": "stream",
          "name": "stdout",
          "text": [
            "Please visit this URL to authorize the app: https://api.twitter.com/oauth/authorize?oauth_token=u7_yCAAAAAABWhLnAAABiB7bUYo\n",
            "Please enter the oauth_token: u7_yCAAAAAABWhLnAAABiB7bUYo\n",
            "Please enter the oauth_verifier: mhABRaiAhgA3OPRnoIJVRYtsmnkwtt8h\n",
            "Access Token: 1656141039797940224-y96eF27lVziqkUn6CYULmh2uaDItoV\n",
            "Access Token Secret: Kk3irUiecI0Z1m4b7i2VpBEibrjmMBbXh00yvu1OItwi1\n"
          ]
        }
      ]
    },
    {
      "cell_type": "code",
      "source": [
        "# import tweepy\n",
        "\n",
        "# # Your keys from the Twitter developer portal\n",
        "# # consumer_key = 'your-consumer-key'\n",
        "# # consumer_secret = 'your-consumer-secret'\n",
        "\n",
        "# oauth_token = ''  # The oauth_token from the URL\n",
        "# oauth_verifier = ''  # The oauth_verifier from the URL\n",
        "\n",
        "# auth = tweepy.OAuthHandler(consumer_key, consumer_secret)\n",
        "# auth.request_token = {'oauth_token': oauth_token, 'oauth_token_secret': oauth_verifier}\n",
        "\n",
        "# try:\n",
        "#     auth.get_access_token(oauth_verifier)\n",
        "# except Exception as e:\n",
        "#     print('Error! Failed to get access token.', e)\n",
        "\n",
        "# # Now auth.access_token and auth.access_token_secret are the final tokens you can use in future sessions\n",
        "# print(\"Access Token:\", auth.access_token)\n",
        "# print(\"Access Token Secret:\", auth.access_token_secret)\n"
      ],
      "metadata": {
        "id": "oDdaQmD-zLh-",
        "outputId": "380d1318-687e-4d87-e409-6eafed17a674",
        "colab": {
          "base_uri": "https://localhost:8080/"
        }
      },
      "execution_count": null,
      "outputs": [
        {
          "output_type": "stream",
          "name": "stdout",
          "text": [
            "Error! Failed to get access token. Token request failed with code 401, response was 'Request token missing'.\n",
            "Access Token: None\n",
            "Access Token Secret: None\n"
          ]
        }
      ]
    },
    {
      "cell_type": "code",
      "source": [
        "#write things"
      ],
      "metadata": {
        "id": "VbJHe9EmyUfN"
      },
      "execution_count": null,
      "outputs": []
    },
    {
      "cell_type": "code",
      "execution_count": 27,
      "metadata": {
        "id": "Ovilw6x1nqC0"
      },
      "outputs": [],
      "source": [
        "import tweepy\n",
        "\n",
        "# Authenticate to Twitter\n",
        "auth = tweepy.OAuthHandler(\"OqVsti1iKWNbP7Wb5JN9zaWaI\", 'WOTMyYFsupcnkUrMcLmVXRVXap4PNF5sINL35lNZFstux2pbdQ')\n",
        "auth.set_access_token(\"1656141039797940224-nAvTvGltva7ffdrOPgfLqNa4tZ52rO\", 'DCKzNyxftqiMhs35QGDCbYXmJ731U94mo0kOq7ZcdpWNi')\n",
        "\n",
        "# Create API object\n",
        "api = tweepy.API(auth, wait_on_rate_limit=True)#,\n",
        "#    wait_on_rate_limit_notify=True)"
      ]
    },
    {
      "cell_type": "code",
      "source": [
        "tweet = api.update_status(\"Hello, world!\")\n",
        "print(f\"Tweeted: {tweet.text}\")"
      ],
      "metadata": {
        "id": "DsLcLHCJxuuh",
        "outputId": "c4ed90ab-ae1a-41e7-bb5c-c12132b5f3ce",
        "colab": {
          "base_uri": "https://localhost:8080/",
          "height": 363
        }
      },
      "execution_count": 28,
      "outputs": [
        {
          "output_type": "error",
          "ename": "Unauthorized",
          "evalue": "ignored",
          "traceback": [
            "\u001b[0;31m---------------------------------------------------------------------------\u001b[0m",
            "\u001b[0;31mUnauthorized\u001b[0m                              Traceback (most recent call last)",
            "\u001b[0;32m<ipython-input-28-1b57c6bcbd3c>\u001b[0m in \u001b[0;36m<cell line: 1>\u001b[0;34m()\u001b[0m\n\u001b[0;32m----> 1\u001b[0;31m \u001b[0mtweet\u001b[0m \u001b[0;34m=\u001b[0m \u001b[0mapi\u001b[0m\u001b[0;34m.\u001b[0m\u001b[0mupdate_status\u001b[0m\u001b[0;34m(\u001b[0m\u001b[0;34m\"Hello, world!\"\u001b[0m\u001b[0;34m)\u001b[0m\u001b[0;34m\u001b[0m\u001b[0;34m\u001b[0m\u001b[0m\n\u001b[0m\u001b[1;32m      2\u001b[0m \u001b[0mprint\u001b[0m\u001b[0;34m(\u001b[0m\u001b[0;34mf\"Tweeted: {tweet.text}\"\u001b[0m\u001b[0;34m)\u001b[0m\u001b[0;34m\u001b[0m\u001b[0;34m\u001b[0m\u001b[0m\n",
            "\u001b[0;32m/usr/local/lib/python3.10/dist-packages/tweepy/api.py\u001b[0m in \u001b[0;36mwrapper\u001b[0;34m(*args, **kwargs)\u001b[0m\n\u001b[1;32m     44\u001b[0m             \u001b[0mkwargs\u001b[0m\u001b[0;34m[\u001b[0m\u001b[0;34m'payload_list'\u001b[0m\u001b[0;34m]\u001b[0m \u001b[0;34m=\u001b[0m \u001b[0mpayload_list\u001b[0m\u001b[0;34m\u001b[0m\u001b[0;34m\u001b[0m\u001b[0m\n\u001b[1;32m     45\u001b[0m             \u001b[0mkwargs\u001b[0m\u001b[0;34m[\u001b[0m\u001b[0;34m'payload_type'\u001b[0m\u001b[0;34m]\u001b[0m \u001b[0;34m=\u001b[0m \u001b[0mpayload_type\u001b[0m\u001b[0;34m\u001b[0m\u001b[0;34m\u001b[0m\u001b[0m\n\u001b[0;32m---> 46\u001b[0;31m             \u001b[0;32mreturn\u001b[0m \u001b[0mmethod\u001b[0m\u001b[0;34m(\u001b[0m\u001b[0;34m*\u001b[0m\u001b[0margs\u001b[0m\u001b[0;34m,\u001b[0m \u001b[0;34m**\u001b[0m\u001b[0mkwargs\u001b[0m\u001b[0;34m)\u001b[0m\u001b[0;34m\u001b[0m\u001b[0;34m\u001b[0m\u001b[0m\n\u001b[0m\u001b[1;32m     47\u001b[0m         \u001b[0mwrapper\u001b[0m\u001b[0;34m.\u001b[0m\u001b[0mpayload_list\u001b[0m \u001b[0;34m=\u001b[0m \u001b[0mpayload_list\u001b[0m\u001b[0;34m\u001b[0m\u001b[0;34m\u001b[0m\u001b[0m\n\u001b[1;32m     48\u001b[0m         \u001b[0mwrapper\u001b[0m\u001b[0;34m.\u001b[0m\u001b[0mpayload_type\u001b[0m \u001b[0;34m=\u001b[0m \u001b[0mpayload_type\u001b[0m\u001b[0;34m\u001b[0m\u001b[0;34m\u001b[0m\u001b[0m\n",
            "\u001b[0;32m/usr/local/lib/python3.10/dist-packages/tweepy/api.py\u001b[0m in \u001b[0;36mupdate_status\u001b[0;34m(self, status, **kwargs)\u001b[0m\n\u001b[1;32m   1140\u001b[0m             \u001b[0mkwargs\u001b[0m\u001b[0;34m[\u001b[0m\u001b[0;34m'media_ids'\u001b[0m\u001b[0;34m]\u001b[0m \u001b[0;34m=\u001b[0m \u001b[0mlist_to_csv\u001b[0m\u001b[0;34m(\u001b[0m\u001b[0mkwargs\u001b[0m\u001b[0;34m[\u001b[0m\u001b[0;34m'media_ids'\u001b[0m\u001b[0;34m]\u001b[0m\u001b[0;34m)\u001b[0m\u001b[0;34m\u001b[0m\u001b[0;34m\u001b[0m\u001b[0m\n\u001b[1;32m   1141\u001b[0m \u001b[0;34m\u001b[0m\u001b[0m\n\u001b[0;32m-> 1142\u001b[0;31m         return self.request(\n\u001b[0m\u001b[1;32m   1143\u001b[0m             'POST', 'statuses/update', endpoint_parameters=(\n\u001b[1;32m   1144\u001b[0m                 \u001b[0;34m'status'\u001b[0m\u001b[0;34m,\u001b[0m \u001b[0;34m'in_reply_to_status_id'\u001b[0m\u001b[0;34m,\u001b[0m\u001b[0;34m\u001b[0m\u001b[0;34m\u001b[0m\u001b[0m\n",
            "\u001b[0;32m/usr/local/lib/python3.10/dist-packages/tweepy/api.py\u001b[0m in \u001b[0;36mrequest\u001b[0;34m(self, method, endpoint, endpoint_parameters, params, headers, json_payload, parser, payload_list, payload_type, post_data, files, require_auth, return_cursors, upload_api, use_cache, **kwargs)\u001b[0m\n\u001b[1;32m    261\u001b[0m                 \u001b[0;32mraise\u001b[0m \u001b[0mBadRequest\u001b[0m\u001b[0;34m(\u001b[0m\u001b[0mresp\u001b[0m\u001b[0;34m)\u001b[0m\u001b[0;34m\u001b[0m\u001b[0;34m\u001b[0m\u001b[0m\n\u001b[1;32m    262\u001b[0m             \u001b[0;32mif\u001b[0m \u001b[0mresp\u001b[0m\u001b[0;34m.\u001b[0m\u001b[0mstatus_code\u001b[0m \u001b[0;34m==\u001b[0m \u001b[0;36m401\u001b[0m\u001b[0;34m:\u001b[0m\u001b[0;34m\u001b[0m\u001b[0;34m\u001b[0m\u001b[0m\n\u001b[0;32m--> 263\u001b[0;31m                 \u001b[0;32mraise\u001b[0m \u001b[0mUnauthorized\u001b[0m\u001b[0;34m(\u001b[0m\u001b[0mresp\u001b[0m\u001b[0;34m)\u001b[0m\u001b[0;34m\u001b[0m\u001b[0;34m\u001b[0m\u001b[0m\n\u001b[0m\u001b[1;32m    264\u001b[0m             \u001b[0;32mif\u001b[0m \u001b[0mresp\u001b[0m\u001b[0;34m.\u001b[0m\u001b[0mstatus_code\u001b[0m \u001b[0;34m==\u001b[0m \u001b[0;36m403\u001b[0m\u001b[0;34m:\u001b[0m\u001b[0;34m\u001b[0m\u001b[0;34m\u001b[0m\u001b[0m\n\u001b[1;32m    265\u001b[0m                 \u001b[0;32mraise\u001b[0m \u001b[0mForbidden\u001b[0m\u001b[0;34m(\u001b[0m\u001b[0mresp\u001b[0m\u001b[0;34m)\u001b[0m\u001b[0;34m\u001b[0m\u001b[0;34m\u001b[0m\u001b[0m\n",
            "\u001b[0;31mUnauthorized\u001b[0m: 401 Unauthorized\n32 - Could not authenticate you."
          ]
        }
      ]
    },
    {
      "cell_type": "code",
      "source": [
        "#https://realpython.com/twitter-bot-python-tweepy/#reader-comments"
      ],
      "metadata": {
        "id": "9W7FFPnWqVVx",
        "outputId": "d198537a-7efb-47fd-8a4b-f7082bccc1c3",
        "colab": {
          "base_uri": "https://localhost:8080/",
          "height": 131
        }
      },
      "execution_count": null,
      "outputs": [
        {
          "output_type": "error",
          "ename": "SyntaxError",
          "evalue": "ignored",
          "traceback": [
            "\u001b[0;36m  File \u001b[0;32m\"<ipython-input-2-6555905a64af>\"\u001b[0;36m, line \u001b[0;32m1\u001b[0m\n\u001b[0;31m    https://realpython.com/twitter-bot-python-tweepy/#reader-comments\u001b[0m\n\u001b[0m          ^\u001b[0m\n\u001b[0;31mSyntaxError\u001b[0m\u001b[0;31m:\u001b[0m invalid syntax\n"
          ]
        }
      ]
    }
  ]
}